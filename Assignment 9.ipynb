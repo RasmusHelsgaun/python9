{
 "cells": [
  {
   "cell_type": "markdown",
   "metadata": {},
   "source": [
    "# [Neural Networks - Clothing assignment](https://www.kaggle.com/zalando-research/fashionmnist)\n",
    "\n",
    "## Questions/Exercises:\n",
    "### 1. Download the dataset programatically, and split the data into a train-test set."
   ]
  },
  {
   "cell_type": "code",
   "execution_count": 63,
   "metadata": {},
   "outputs": [
    {
     "data": {
      "text/plain": [
       "'1.13.1'"
      ]
     },
     "execution_count": 63,
     "metadata": {},
     "output_type": "execute_result"
    }
   ],
   "source": [
    "import tensorflow as tf\n",
    "\n",
    "#Since kaggle can be iffy, the dataset can also be extracted likewise, as it is a part of the tensorflow datasets\n",
    "clothing = tf.keras.datasets.fashion_mnist\n",
    "\n",
    "(x_train, y_train), (x_test, y_test) = clothing.load_data()\n",
    "\n",
    "#Normalizing/scaling the values to be between 0 and 1\n",
    "x_train = tf.keras.utils.normalize(x_train, axis=1)\n",
    "x_test = tf.keras.utils.normalize(x_test, axis=1)\n",
    "\n",
    "#defining the labels in an array, as the testing data, has been given numbers/indexes depening on which clothing article it is.\n",
    "clothing_labels = ['T-shirt/top', 'Trouser', 'Pullover', 'Dress', 'Coat',\n",
    "                   'Sandal', 'Shirt', 'Sneaker', 'Bag', 'Ankle boot']\n",
    "\n",
    "tf.__version__"
   ]
  },
  {
   "cell_type": "markdown",
   "metadata": {},
   "source": [
    "### 2. Using TensorFlow, create a neural network and train it."
   ]
  },
  {
   "cell_type": "code",
   "execution_count": 14,
   "metadata": {},
   "outputs": [],
   "source": [
    "#Creating a sequential model and adding flatten input\n",
    "model = tf.keras.models.Sequential()\n",
    "model.add(tf.keras.layers.Flatten())\n",
    "#Adding dense layers with 128 neurons with the \"default activation function relu\"\n",
    "model.add(tf.keras.layers.Dense(128, activation=tf.nn.relu))\n",
    "model.add(tf.keras.layers.Dense(128, activation=tf.nn.relu))\n",
    "#Adding a final dense layer with neurons, which indicates how many classifications we have,\n",
    "#which is 10 different clothing articales\n",
    "model.add(tf.keras.layers.Dense(10, activation=tf.nn.softmax))\n",
    "\n",
    "#Compiling how we want the data to be trained with an optimizer, loss and metrics\n",
    "model.compile(optimizer='adam', \n",
    "              loss='sparse_categorical_crossentropy',\n",
    "             metrics=['accuracy'])"
   ]
  },
  {
   "cell_type": "code",
   "execution_count": 15,
   "metadata": {},
   "outputs": [
    {
     "name": "stdout",
     "output_type": "stream",
     "text": [
      "Epoch 1/4\n",
      "60000/60000 [==============================] - 8s 141us/sample - loss: 0.4887 - acc: 0.8208\n",
      "Epoch 2/4\n",
      "60000/60000 [==============================] - 8s 127us/sample - loss: 0.3604 - acc: 0.8665\n",
      "Epoch 3/4\n",
      "60000/60000 [==============================] - 8s 130us/sample - loss: 0.3244 - acc: 0.8794\n",
      "Epoch 4/4\n",
      "60000/60000 [==============================] - 8s 142us/sample - loss: 0.2972 - acc: 0.8887\n"
     ]
    },
    {
     "data": {
      "text/plain": [
       "<tensorflow.python.keras.callbacks.History at 0x7f8c11606cf8>"
      ]
     },
     "execution_count": 15,
     "metadata": {},
     "output_type": "execute_result"
    }
   ],
   "source": [
    "#Training of the model with 4 epochs, which means the data will go through 4 times.\n",
    "model.fit(x_train, y_train, epochs=4)"
   ]
  },
  {
   "cell_type": "markdown",
   "metadata": {},
   "source": [
    "### 3. Use the provided test data, and evaluate the accuracy of the network."
   ]
  },
  {
   "cell_type": "code",
   "execution_count": 25,
   "metadata": {},
   "outputs": [
    {
     "name": "stdout",
     "output_type": "stream",
     "text": [
      "10000/10000 [==============================] - 1s 53us/sample - loss: 0.3433 - acc: 0.8743\n",
      "In this evaluation the data failed 34% of the time, but succeeded 87% of the time!\n"
     ]
    }
   ],
   "source": [
    "#Evaluation of the training\n",
    "val_loss, val_acc = model.evaluate(x_test, y_test)\n",
    "\n",
    "print(\"In this evaluation the data failed {}% of the time, but succeeded {}% of the time!\"\n",
    "      .format(int(val_loss * 100), int(val_acc * 100)))"
   ]
  },
  {
   "cell_type": "code",
   "execution_count": 35,
   "metadata": {},
   "outputs": [
    {
     "name": "stdout",
     "output_type": "stream",
     "text": [
      "The label was: 9 which is the same as a/an: Ankle boot\n",
      "The label was: 2 which is the same as a/an: Pullover\n",
      "The label was: 1 which is the same as a/an: Trouser\n",
      "The label was: 1 which is the same as a/an: Trouser\n",
      "The label was: 6 which is the same as a/an: Shirt\n",
      "The label was: 1 which is the same as a/an: Trouser\n",
      "The label was: 4 which is the same as a/an: Coat\n",
      "The label was: 6 which is the same as a/an: Shirt\n",
      "The label was: 5 which is the same as a/an: Sandal\n",
      "The label was: 7 which is the same as a/an: Sneaker\n"
     ]
    }
   ],
   "source": [
    "import numpy as np\n",
    "predictions = model.predict([x_test])\n",
    "\n",
    "for x in range(10):\n",
    "    pred_label = np.argmax(predictions[x])\n",
    "    print(\"The label was:\", pred_label, \"which is the same as a/an:\", clothing_labels[pred_label])"
   ]
  },
  {
   "cell_type": "code",
   "execution_count": 62,
   "metadata": {},
   "outputs": [
    {
     "data": {
      "image/png": "[encoded data removed]",
      "text/plain": [
       "<Figure size 720x288 with 10 Axes>"
      ]
     },
     "metadata": {},
     "output_type": "display_data"
    }
   ],
   "source": [
    "import matplotlib.pyplot as plt\n",
    "\n",
    "plt.figure(figsize=(10,4))\n",
    "\n",
    "for x in range(10):\n",
    "    plt.subplot(2, 5, x+1)\n",
    "    plt.imshow(x_test[x])\n",
    "    plt.xticks([])\n",
    "    plt.yticks([])\n",
    "    plt.xlabel(clothing_labels[y_test[x]])"
   ]
  },
  {
   "cell_type": "markdown",
   "metadata": {},
   "source": [
    "## Reflection:\n",
    "Looking at the evaluation, you can see that the successrate is at 87%, which indicates that the training of the data went pretty well.\n",
    "This basically means that the data we've accumulated can almost always see/predict which clothing article is on the given image.\n",
    "\n",
    "This can also be confirmed in the predictions and plotting of the test data, that the predictions are correct, for at least the first 10 images."
   ]
  },
  {
   "cell_type": "markdown",
   "metadata": {},
   "source": [
    "## Review Questions:\n",
    "1. Did the student download the data programatically and split it into a train-test set?\n",
    "2. Did the student use tesorflow to create a neural network and train it?\n",
    "3. Did the student reflect on the accuracy of the network?"
   ]
  }
 ],
 "metadata": {
  "kernelspec": {
   "display_name": "Python 3",
   "language": "python",
   "name": "python3"
  },
  "language_info": {
   "codemirror_mode": {
    "name": "ipython",
    "version": 3
   },
   "file_extension": ".py",
   "mimetype": "text/x-python",
   "name": "python",
   "nbconvert_exporter": "python",
   "pygments_lexer": "ipython3",
   "version": "3.7.2"
  }
 },
 "nbformat": 4,
 "nbformat_minor": 2
}
